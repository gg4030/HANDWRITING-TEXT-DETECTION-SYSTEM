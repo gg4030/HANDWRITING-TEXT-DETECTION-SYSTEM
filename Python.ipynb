{
 "cells": [
  {
   "cell_type": "code",
   "execution_count": 7,
   "id": "d710fc3a-bbd3-4385-bb55-0f2fc34b2bac",
   "metadata": {},
   "outputs": [
    {
     "name": "stdout",
     "output_type": "stream",
     "text": [
      "Requirement already satisfied: easyocr in c:\\users\\user\\downloads\\anaconda\\lib\\site-packages (1.7.1)\n",
      "Requirement already satisfied: torch in c:\\users\\user\\downloads\\anaconda\\lib\\site-packages (from easyocr) (2.2.2)\n",
      "Requirement already satisfied: torchvision>=0.5 in c:\\users\\user\\downloads\\anaconda\\lib\\site-packages (from easyocr) (0.17.2)\n",
      "Requirement already satisfied: opencv-python-headless in c:\\users\\user\\downloads\\anaconda\\lib\\site-packages (from easyocr) (4.9.0.80)\n",
      "Requirement already satisfied: scipy in c:\\users\\user\\downloads\\anaconda\\lib\\site-packages (from easyocr) (1.11.4)\n",
      "Requirement already satisfied: numpy in c:\\users\\user\\downloads\\anaconda\\lib\\site-packages (from easyocr) (1.26.4)\n",
      "Requirement already satisfied: Pillow in c:\\users\\user\\downloads\\anaconda\\lib\\site-packages (from easyocr) (10.2.0)\n",
      "Requirement already satisfied: scikit-image in c:\\users\\user\\downloads\\anaconda\\lib\\site-packages (from easyocr) (0.22.0)\n",
      "Requirement already satisfied: python-bidi in c:\\users\\user\\downloads\\anaconda\\lib\\site-packages (from easyocr) (0.4.2)\n",
      "Requirement already satisfied: PyYAML in c:\\users\\user\\downloads\\anaconda\\lib\\site-packages (from easyocr) (6.0.1)\n",
      "Requirement already satisfied: Shapely in c:\\users\\user\\downloads\\anaconda\\lib\\site-packages (from easyocr) (2.0.3)\n",
      "Requirement already satisfied: pyclipper in c:\\users\\user\\downloads\\anaconda\\lib\\site-packages (from easyocr) (1.3.0.post5)\n",
      "Requirement already satisfied: ninja in c:\\users\\user\\downloads\\anaconda\\lib\\site-packages (from easyocr) (1.11.1.1)\n",
      "Requirement already satisfied: filelock in c:\\users\\user\\downloads\\anaconda\\lib\\site-packages (from torch->easyocr) (3.13.1)\n",
      "Requirement already satisfied: typing-extensions>=4.8.0 in c:\\users\\user\\downloads\\anaconda\\lib\\site-packages (from torch->easyocr) (4.9.0)\n",
      "Requirement already satisfied: sympy in c:\\users\\user\\downloads\\anaconda\\lib\\site-packages (from torch->easyocr) (1.12)\n",
      "Requirement already satisfied: networkx in c:\\users\\user\\downloads\\anaconda\\lib\\site-packages (from torch->easyocr) (3.1)\n",
      "Requirement already satisfied: jinja2 in c:\\users\\user\\downloads\\anaconda\\lib\\site-packages (from torch->easyocr) (3.1.3)\n",
      "Requirement already satisfied: fsspec in c:\\users\\user\\downloads\\anaconda\\lib\\site-packages (from torch->easyocr) (2023.10.0)\n",
      "Requirement already satisfied: six in c:\\users\\user\\appdata\\roaming\\python\\python311\\site-packages (from python-bidi->easyocr) (1.16.0)\n",
      "Requirement already satisfied: imageio>=2.27 in c:\\users\\user\\downloads\\anaconda\\lib\\site-packages (from scikit-image->easyocr) (2.33.1)\n",
      "Requirement already satisfied: tifffile>=2022.8.12 in c:\\users\\user\\downloads\\anaconda\\lib\\site-packages (from scikit-image->easyocr) (2023.4.12)\n",
      "Requirement already satisfied: packaging>=21 in c:\\users\\user\\appdata\\roaming\\python\\python311\\site-packages (from scikit-image->easyocr) (23.2)\n",
      "Requirement already satisfied: lazy_loader>=0.3 in c:\\users\\user\\downloads\\anaconda\\lib\\site-packages (from scikit-image->easyocr) (0.3)\n",
      "Requirement already satisfied: MarkupSafe>=2.0 in c:\\users\\user\\downloads\\anaconda\\lib\\site-packages (from jinja2->torch->easyocr) (2.1.3)\n",
      "Requirement already satisfied: mpmath>=0.19 in c:\\users\\user\\downloads\\anaconda\\lib\\site-packages (from sympy->torch->easyocr) (1.3.0)\n",
      "Note: you may need to restart the kernel to use updated packages.\n"
     ]
    }
   ],
   "source": [
    "pip install easyocr"
   ]
  },
  {
   "cell_type": "code",
   "execution_count": 8,
   "id": "f478bbb2-2e8b-4056-b53d-1f0de5ba846d",
   "metadata": {},
   "outputs": [
    {
     "name": "stdout",
     "output_type": "stream",
     "text": [
      "Requirement already satisfied: pillow in c:\\users\\user\\downloads\\anaconda\\lib\\site-packages (10.2.0)Note: you may need to restart the kernel to use updated packages.\n",
      "\n"
     ]
    },
    {
     "name": "stderr",
     "output_type": "stream",
     "text": [
      "ERROR: Could not find a version that satisfies the requirement or (from versions: none)\n",
      "ERROR: No matching distribution found for or\n"
     ]
    }
   ],
   "source": [
    "pip install pillow or pip install PIL\n"
   ]
  },
  {
   "cell_type": "code",
   "execution_count": 5,
   "id": "52c01b69-c8ab-4a94-a7bf-01c5c08f672c",
   "metadata": {},
   "outputs": [
    {
     "name": "stderr",
     "output_type": "stream",
     "text": [
      "Using CPU. Note: This module is much faster with a GPU.\n"
     ]
    },
    {
     "name": "stdout",
     "output_type": "stream",
     "text": [
      "33\n"
     ]
    }
   ],
   "source": [
    "import easyocr\n",
    "import PIL\n",
    "from PIL import ImageDraw\n",
    "\n",
    "# Initialize EasyOCR reader\n",
    "reader = easyocr.Reader([\"en\"], gpu=False)\n",
    "\n",
    "# Open the image\n",
    "im = PIL.Image.open(r\"C:\\Users\\User\\Downloads\\AI PROJECT\\TestForAI.jpg\")\n",
    "\n",
    "# Perform OCR\n",
    "bounds = reader.readtext(r'C:\\Users\\User\\Downloads\\AI PROJECT\\TestForAI.jpg')\n",
    "\n",
    "# Define function to draw bounding boxes\n",
    "def draw_boxes(image, bounds, color='yellow', width=8):\n",
    "    draw = ImageDraw.Draw(image)\n",
    "    for bound in bounds:\n",
    "        p0, p1, p2, p3 = bound[0]\n",
    "        draw.line([*p0, *p1, *p2, *p3, *p0], fill=color, width=width)\n",
    "    return image\n",
    "\n",
    "# Draw bounding boxes on the image\n",
    "drawn_image = draw_boxes(im, bounds)\n",
    "\n",
    "# Save the modified image with a different filename\n",
    "drawn_image.save(r\"C:\\Users\\User\\Downloads\\AI PROJECTnr_with_boxes.jpg\")\n",
    "\n",
    "# Print and write recognized text to a file\n",
    "with open(r\"C:\\Users\\User\\Downloads\\AI PROJECTnr_text.txt\", mode='w', encoding=\"utf-8\") as f:\n",
    "    for i in bounds:\n",
    "        print(i[1])\n",
    "        f.write(i[1] + '\\n')\n"
   ]
  },
  {
   "cell_type": "code",
   "execution_count": null,
   "id": "599e850b-6eea-485b-9470-e7a14552dfed",
   "metadata": {},
   "outputs": [],
   "source": []
  }
 ],
 "metadata": {
  "kernelspec": {
   "display_name": "Python 3 (ipykernel)",
   "language": "python",
   "name": "python3"
  },
  "language_info": {
   "codemirror_mode": {
    "name": "ipython",
    "version": 3
   },
   "file_extension": ".py",
   "mimetype": "text/x-python",
   "name": "python",
   "nbconvert_exporter": "python",
   "pygments_lexer": "ipython3",
   "version": "3.11.7"
  }
 },
 "nbformat": 4,
 "nbformat_minor": 5
}
